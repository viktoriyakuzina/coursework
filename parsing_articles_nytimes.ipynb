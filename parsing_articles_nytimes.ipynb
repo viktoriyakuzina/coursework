{
 "cells": [
  {
   "cell_type": "code",
   "execution_count": 2,
   "metadata": {},
   "outputs": [],
   "source": [
    "import requests\n",
    "import json\n",
    "import pandas as pd\n",
    "import time"
   ]
  },
  {
   "cell_type": "code",
   "execution_count": 93,
   "metadata": {
    "scrolled": true
   },
   "outputs": [
    {
     "name": "stdout",
     "output_type": "stream",
     "text": [
      "2020 1\n",
      "<Response [200]>\n",
      "2020 2\n",
      "<Response [200]>\n",
      "2020 3\n",
      "<Response [200]>\n",
      "2020 4\n",
      "<Response [200]>\n",
      "2020 5\n",
      "<Response [200]>\n",
      "2020 6\n",
      "<Response [200]>\n",
      "2020 7\n",
      "<Response [200]>\n",
      "NEXT YEAR\n",
      "2021 0\n",
      "<Response [200]>\n",
      "NEXT YEAR\n",
      "2022 0\n",
      "<Response [200]>\n",
      "NEXT YEAR\n",
      "2023 0\n",
      "<Response [200]>\n",
      "NEXT YEAR\n",
      "2024 0\n",
      "<Response [200]>\n",
      "NEXT YEAR\n",
      "2025 0\n",
      "<Response [429]>\n",
      "Error\n",
      "2025 0\n",
      "<Response [429]>\n",
      "Error\n",
      "2025 0\n",
      "<Response [200]>\n",
      "NEXT YEAR\n",
      "2026 0\n",
      "<Response [200]>\n",
      "NEXT YEAR\n",
      "2027 0\n",
      "<Response [200]>\n",
      "NEXT YEAR\n",
      "2028 0\n",
      "<Response [200]>\n",
      "NEXT YEAR\n",
      "2029 0\n",
      "<Response [200]>\n",
      "NEXT YEAR\n",
      "2030 0\n",
      "<Response [200]>\n",
      "NEXT YEAR\n",
      "2031 0\n",
      "<Response [200]>\n",
      "NEXT YEAR\n",
      "2032 0\n",
      "<Response [200]>\n",
      "NEXT YEAR\n",
      "2033 0\n",
      "<Response [200]>\n",
      "NEXT YEAR\n",
      "2034 0\n",
      "<Response [200]>\n",
      "NEXT YEAR\n",
      "2035 0\n",
      "<Response [429]>\n",
      "Error\n"
     ]
    },
    {
     "ename": "KeyboardInterrupt",
     "evalue": "",
     "output_type": "error",
     "traceback": [
      "\u001b[1;31m---------------------------------------------------------------------------\u001b[0m",
      "\u001b[1;31mKeyError\u001b[0m                                  Traceback (most recent call last)",
      "\u001b[1;32m<ipython-input-93-ffd8f7793c53>\u001b[0m in \u001b[0;36m<module>\u001b[1;34m\u001b[0m\n\u001b[0;32m     23\u001b[0m \u001b[1;33m\u001b[0m\u001b[0m\n\u001b[1;32m---> 24\u001b[1;33m         \u001b[1;32mif\u001b[0m \u001b[0mlen\u001b[0m\u001b[1;33m(\u001b[0m\u001b[0mjson\u001b[0m\u001b[1;33m.\u001b[0m\u001b[0mloads\u001b[0m\u001b[1;33m(\u001b[0m\u001b[0mhtml\u001b[0m\u001b[1;33m.\u001b[0m\u001b[0mtext\u001b[0m\u001b[1;33m)\u001b[0m\u001b[1;33m[\u001b[0m\u001b[1;34m'response'\u001b[0m\u001b[1;33m]\u001b[0m\u001b[1;33m[\u001b[0m\u001b[1;34m'docs'\u001b[0m\u001b[1;33m]\u001b[0m\u001b[1;33m)\u001b[0m \u001b[1;33m==\u001b[0m \u001b[1;36m0\u001b[0m\u001b[1;33m:\u001b[0m\u001b[1;33m\u001b[0m\u001b[1;33m\u001b[0m\u001b[0m\n\u001b[0m\u001b[0;32m     25\u001b[0m             \u001b[0mprint\u001b[0m\u001b[1;33m(\u001b[0m\u001b[1;34m'NEXT YEAR'\u001b[0m\u001b[1;33m)\u001b[0m\u001b[1;33m\u001b[0m\u001b[1;33m\u001b[0m\u001b[0m\n",
      "\u001b[1;31mKeyError\u001b[0m: 'response'",
      "\nDuring handling of the above exception, another exception occurred:\n",
      "\u001b[1;31mKeyboardInterrupt\u001b[0m                         Traceback (most recent call last)",
      "\u001b[1;32m<ipython-input-93-ffd8f7793c53>\u001b[0m in \u001b[0;36m<module>\u001b[1;34m\u001b[0m\n\u001b[0;32m     36\u001b[0m     \u001b[1;32mexcept\u001b[0m\u001b[1;33m:\u001b[0m\u001b[1;33m\u001b[0m\u001b[1;33m\u001b[0m\u001b[0m\n\u001b[0;32m     37\u001b[0m         \u001b[0mprint\u001b[0m\u001b[1;33m(\u001b[0m\u001b[1;34m'Error'\u001b[0m\u001b[1;33m)\u001b[0m\u001b[1;33m\u001b[0m\u001b[1;33m\u001b[0m\u001b[0m\n\u001b[1;32m---> 38\u001b[1;33m         \u001b[0mtime\u001b[0m\u001b[1;33m.\u001b[0m\u001b[0msleep\u001b[0m\u001b[1;33m(\u001b[0m\u001b[1;36m30\u001b[0m\u001b[1;33m)\u001b[0m\u001b[1;33m\u001b[0m\u001b[1;33m\u001b[0m\u001b[0m\n\u001b[0m\u001b[0;32m     39\u001b[0m         \u001b[1;32mcontinue\u001b[0m\u001b[1;33m\u001b[0m\u001b[1;33m\u001b[0m\u001b[0m\n\u001b[0;32m     40\u001b[0m \u001b[1;33m\u001b[0m\u001b[0m\n",
      "\u001b[1;31mKeyboardInterrupt\u001b[0m: "
     ]
    }
   ],
   "source": [
    "data = pd.DataFrame()\n",
    "users = ['Mozilla/5.0 (Windows NT 10.0; Win64; x64) AppleWebKit/537.36 (KHTML, like Gecko) Chrome/70.0.3538.77 Safari/537.36',\n",
    "        'Mozilla/5.0 (X11; Linux x86_64) AppleWebKit/537.36 (KHTML, like Gecko) Chrome/88.0.4324.182 Safari/537.36',\n",
    "        'My User Agent 1.0']\n",
    "\n",
    "iteration = 0\n",
    "page = 1\n",
    "year = 2020\n",
    "condition = True\n",
    "while condition:\n",
    "    print(year, page)\n",
    "    params = {'q': 'Russia',\n",
    "              'sort': 'oldest',\n",
    "             'begin_date': '{}1224'.format(year), \n",
    "             'end_date': '{}0101'.format(year+1),\n",
    "             'api-key': 'DoOw3RcEIlPSttmDUhLTpDbwl7xu916l',\n",
    "             'page': '{}'.format(page)}\n",
    "    url = 'https://api.nytimes.com/svc/search/v2/articlesearch.json?'\n",
    "        \n",
    "    try: \n",
    "        html = requests.get(url, params, headers = {'User-agent': users[iteration % 3]})\n",
    "        print(html)\n",
    "        \n",
    "        if len(json.loads(html.text)['response']['docs']) == 0:\n",
    "            print('NEXT YEAR')\n",
    "            year += 1\n",
    "            page = 0\n",
    "            continue\n",
    "        \n",
    "        if data.empty:\n",
    "            data = pd.DataFrame(json.loads(html.text)['response']['docs'])\n",
    "        else:\n",
    "            data = pd.concat([data, pd.DataFrame(json.loads(html.text)['response']['docs'])])\n",
    "        page += 1\n",
    "        \n",
    "    except:\n",
    "        print('Error')\n",
    "        time.sleep(30)\n",
    "        continue\n",
    "        \n",
    "    if data['pub_date'].apply(lambda x: int(x[:4])).value_counts()[year] > 4500:\n",
    "        print('NEXT YEAR')\n",
    "        year += 1\n",
    "        page = 1\n",
    "        \n",
    "    if year == 2021:\n",
    "        condition = False\n",
    "    \n",
    "    iteration += 1"
   ]
  },
  {
   "cell_type": "code",
   "execution_count": 94,
   "metadata": {},
   "outputs": [],
   "source": [
    "data['headline'] = data['headline'].apply(lambda x: x['main'])"
   ]
  },
  {
   "cell_type": "code",
   "execution_count": 95,
   "metadata": {},
   "outputs": [],
   "source": [
    "data = data.reset_index(drop = True)"
   ]
  },
  {
   "cell_type": "code",
   "execution_count": 96,
   "metadata": {
    "scrolled": true
   },
   "outputs": [
    {
     "data": {
      "text/plain": [
       "2020    52\n",
       "2021     3\n",
       "Name: pub_date, dtype: int64"
      ]
     },
     "execution_count": 96,
     "metadata": {},
     "output_type": "execute_result"
    }
   ],
   "source": [
    "data['pub_date'] = pd.to_datetime(data['pub_date'])\n",
    "data['pub_date'].dt.year.value_counts()"
   ]
  },
  {
   "cell_type": "code",
   "execution_count": 97,
   "metadata": {
    "scrolled": true
   },
   "outputs": [
    {
     "data": {
      "text/plain": [
       "0    2020-12-24 15:35:35+00:00\n",
       "1    2020-12-24 16:00:09+00:00\n",
       "2    2020-12-24 16:31:08+00:00\n",
       "3    2020-12-24 16:36:30+00:00\n",
       "4    2020-12-24 18:27:07+00:00\n",
       "5    2020-12-24 20:34:03+00:00\n",
       "6    2020-12-24 21:11:44+00:00\n",
       "7    2020-12-24 23:35:39+00:00\n",
       "8    2020-12-25 03:59:58+00:00\n",
       "9    2020-12-25 16:17:05+00:00\n",
       "10   2020-12-25 16:31:54+00:00\n",
       "11   2020-12-26 03:10:57+00:00\n",
       "12   2020-12-26 12:29:04+00:00\n",
       "13   2020-12-26 20:31:43+00:00\n",
       "14   2020-12-27 08:33:31+00:00\n",
       "15   2020-12-27 12:00:07+00:00\n",
       "16   2020-12-27 17:18:42+00:00\n",
       "17   2020-12-28 10:00:08+00:00\n",
       "18   2020-12-28 10:00:24+00:00\n",
       "19   2020-12-28 14:00:25+00:00\n",
       "20   2020-12-28 14:46:02+00:00\n",
       "21   2020-12-28 20:37:26+00:00\n",
       "22   2020-12-28 20:56:04+00:00\n",
       "23   2020-12-28 23:06:31+00:00\n",
       "24   2020-12-29 00:21:33+00:00\n",
       "25   2020-12-29 05:12:08+00:00\n",
       "26   2020-12-29 10:00:17+00:00\n",
       "27   2020-12-29 10:11:12+00:00\n",
       "28   2020-12-29 13:32:31+00:00\n",
       "29   2020-12-29 15:06:36+00:00\n",
       "30   2020-12-29 19:24:59+00:00\n",
       "31   2020-12-29 23:20:00+00:00\n",
       "32   2020-12-29 23:56:14+00:00\n",
       "33   2020-12-30 03:21:34+00:00\n",
       "34   2020-12-30 05:17:45+00:00\n",
       "35   2020-12-30 05:44:52+00:00\n",
       "36   2020-12-30 07:07:33+00:00\n",
       "37   2020-12-30 10:00:02+00:00\n",
       "38   2020-12-30 10:00:40+00:00\n",
       "39   2020-12-30 20:33:10+00:00\n",
       "40   2020-12-31 03:38:15+00:00\n",
       "41   2020-12-31 10:00:22+00:00\n",
       "42   2020-12-31 10:00:26+00:00\n",
       "43   2020-12-31 13:36:14+00:00\n",
       "44   2020-12-31 14:30:03+00:00\n",
       "45   2020-12-31 17:10:58+00:00\n",
       "46   2020-12-31 18:02:02+00:00\n",
       "47   2020-12-31 18:33:33+00:00\n",
       "48   2020-12-31 18:57:56+00:00\n",
       "49   2020-12-31 19:14:09+00:00\n",
       "50   2020-12-31 22:54:00+00:00\n",
       "51   2020-12-31 23:19:27+00:00\n",
       "52   2021-01-01 10:00:07+00:00\n",
       "53   2021-01-01 19:46:20+00:00\n",
       "54   2021-01-01 21:36:51+00:00\n",
       "Name: pub_date, dtype: datetime64[ns, UTC]"
      ]
     },
     "execution_count": 97,
     "metadata": {},
     "output_type": "execute_result"
    }
   ],
   "source": [
    "data['pub_date']"
   ]
  },
  {
   "cell_type": "code",
   "execution_count": 98,
   "metadata": {},
   "outputs": [],
   "source": [
    "data.to_csv('urls_RU_2020_12_24.csv')"
   ]
  }
 ],
 "metadata": {
  "kernelspec": {
   "display_name": "Python 3",
   "language": "python",
   "name": "python3"
  },
  "language_info": {
   "codemirror_mode": {
    "name": "ipython",
    "version": 3
   },
   "file_extension": ".py",
   "mimetype": "text/x-python",
   "name": "python",
   "nbconvert_exporter": "python",
   "pygments_lexer": "ipython3",
   "version": "3.7.7"
  }
 },
 "nbformat": 4,
 "nbformat_minor": 4
}
